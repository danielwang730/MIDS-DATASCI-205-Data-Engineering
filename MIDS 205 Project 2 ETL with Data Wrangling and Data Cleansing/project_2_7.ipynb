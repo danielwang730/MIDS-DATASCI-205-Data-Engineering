{
 "cells": [
  {
   "cell_type": "markdown",
   "id": "3f465500",
   "metadata": {},
   "source": [
    "# Project 2, Part 7, Analysis on continuing to withhold customer data from 3rd parties\n",
    "\n",
    "University of California, Berkeley\n",
    "\n",
    "Master of Information and Data Science (MIDS) program\n",
    "\n",
    "w205 - Fundamentals of Data Engineering\n"
   ]
  },
  {
   "cell_type": "markdown",
   "id": "1cf92eab",
   "metadata": {},
   "source": [
    "# 2.7 Analysis on continuing to withhold customer data from 3rd parties\n",
    "\n",
    "As stated in the scenario, like most companies, AGM does not want to give out its customer list to 3rd party sales channels.  The downside is, as we have seen, that customer first names, last names, and street addresses will have some variations and not be exact matches.\n",
    "\n",
    "The data science team would like your analysis of both options:\n",
    "\n",
    "1)  Continue to withhold the customer data from 3rd party sales channels\n",
    "\n",
    "2)  Give customer data to 3rd party sales channels\n",
    "\n",
    "The data science team would also like your recommendation on which option you think is best.  \n",
    "\n",
    "In the markdown cell, you must provide:\n",
    "* A meaningful title\n",
    "* Write a brief paragraph for option 1.\n",
    "* Write a brief paragraph for option 2.\n",
    "* Write a brief paragraph with your recommendation, which must be either option 1 or option 2, you cannot recommend something else.\n",
    "\n",
    "Put the title and all 3 paragraphs in a single markdown cell.\n",
    "\n",
    "You are not required to write any queries nor any code nor create any data visualizations.  Simply provide English text.\n"
   ]
  },
  {
   "cell_type": "markdown",
   "id": "c8086a63",
   "metadata": {},
   "source": [
    "# Analyzing the Benefits and Drawbacks of Sharing AGM Customer Data with 3rd Party Sales Channels\n",
    "\n",
    "One of the biggest draws for continuing to withhold customer data is so AGM can retain full control over its customer list, which avoids potential data leaks, privacy breaches, or misuse by 3rd party sales channels. While Non-Disclosure Agreements do offer some legal protection, they are not ironclad, and breaches due to cyberattacks, rogue employees, or company failures could still expose sensitive customer data. Managing customer validation internally requires additional effort, but with the right framework, AGM can automate much of the matching process and improve data accuracy over time. Additionally, withholding data prevents the risk of losing direct customer relationships, ensuring that AGM remains the primary point of contact for its buyers. However, handling variations in customer names and addresses – such as duplicate entries for the same household – will require careful data cleansing strategies. The current customer mismatch rate of 13.4% is not alarming, but bringing that figure down would be extremely conducive to expediting the data validation process.\n",
    "\n",
    "Sharing customer data with Peak Deliveries could streamline data validation and reduce the burden on AGM’s internal systems. Peak would be able to match orders to customer profiles with greater accuracy, potentially improving order processing speed and customer experience. Furthermore, AGM might have an opportunity to monetize its customer data or negotiate better service terms with Peak. However, this approach comes with risks; for example, integrating systems for seamless data sharing would require development costs, which contradicts management’s preference to avoid API integration expenses. Moreover, AGM would be relinquishing control over its customer list, introducing long-term strategic risks if 3rd party partners use the data for their own business interests or if security vulnerabilities lead to data exposure.\n",
    "\n",
    "Given the current circumstances, AGM should continue to withhold its customer data from Peak Deliveries. While mismatches in customer names and addresses create some challenges, these issues are manageable with data cleaning techniques and continued improvements to the matching process. If AGM establishes a correction table to track and store resolved mismatches, it can significantly reduce future validation efforts. Additionally, maintaining direct control over customer data safeguards AGM’s long-term customer relationships and brand trust. While sharing data may offer short-term convenience, the potential risks – loss of customer exclusivity, privacy concerns, and reliance on a 3rd party – outweigh the benefits. Instead, AGM should focus on refining its internal validation processes, ensuring a scalable approach that aligns with management’s goals while protecting the company’s most valuable asset: its customer base.\n"
   ]
  },
  {
   "cell_type": "code",
   "execution_count": null,
   "id": "b8c59d2b",
   "metadata": {},
   "outputs": [],
   "source": []
  }
 ],
 "metadata": {
  "kernelspec": {
   "display_name": "Python 3 (ipykernel)",
   "language": "python",
   "name": "python3"
  },
  "language_info": {
   "codemirror_mode": {
    "name": "ipython",
    "version": 3
   },
   "file_extension": ".py",
   "mimetype": "text/x-python",
   "name": "python",
   "nbconvert_exporter": "python",
   "pygments_lexer": "ipython3",
   "version": "3.9.7"
  }
 },
 "nbformat": 4,
 "nbformat_minor": 5
}
