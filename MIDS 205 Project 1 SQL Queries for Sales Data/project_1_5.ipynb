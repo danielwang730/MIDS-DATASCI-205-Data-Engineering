{
 "cells": [
  {
   "cell_type": "markdown",
   "id": "cd11da2a",
   "metadata": {},
   "source": [
    "# Project 1, Part 5, Data Visualization\n",
    "\n"
   ]
  },
  {
   "cell_type": "markdown",
   "id": "b052db7c",
   "metadata": {},
   "source": [
    "# Included Modules and Packages\n",
    "\n",
    "Code cell containing your includes for modules and packages"
   ]
  },
  {
   "cell_type": "code",
   "execution_count": 1,
   "id": "a400eec0",
   "metadata": {},
   "outputs": [],
   "source": [
    "import math\n",
    "import numpy as np\n",
    "import pandas as pd\n",
    "\n",
    "import psycopg2"
   ]
  },
  {
   "cell_type": "markdown",
   "id": "d954ac75",
   "metadata": {},
   "source": [
    "# Supporting code\n",
    "\n",
    "Code cells containing any supporting code, such as connecting to the database, any functions, etc.  Remember you can use any code from the labs."
   ]
  },
  {
   "cell_type": "code",
   "execution_count": 2,
   "id": "8fa124e7",
   "metadata": {},
   "outputs": [],
   "source": [
    "#\n",
    "# function to run a select query and return rows in a pandas dataframe\n",
    "# pandas puts all numeric values from postgres to float\n",
    "# if it will fit in an integer, change it to integer\n",
    "#\n",
    "\n",
    "def my_select_query_pandas(query, rollback_before_flag, rollback_after_flag):\n",
    "    \"function to run a select query and return rows in a pandas dataframe\"\n",
    "    \n",
    "    if rollback_before_flag:\n",
    "        connection.rollback()\n",
    "    \n",
    "    df = pd.read_sql_query(query, connection)\n",
    "    \n",
    "    if rollback_after_flag:\n",
    "        connection.rollback()\n",
    "    \n",
    "    # fix the float columns that really should be integers\n",
    "    \n",
    "    for column in df:\n",
    "    \n",
    "        if df[column].dtype == \"float64\":\n",
    "\n",
    "            fraction_flag = False\n",
    "\n",
    "            for value in df[column].values:\n",
    "                \n",
    "                if not np.isnan(value):\n",
    "                    if value - math.floor(value) != 0:\n",
    "                        fraction_flag = True\n",
    "\n",
    "            if not fraction_flag:\n",
    "                df[column] = df[column].astype('Int64')\n",
    "    \n",
    "    return(df)\n",
    "    "
   ]
  },
  {
   "cell_type": "code",
   "execution_count": 3,
   "id": "c00f0670",
   "metadata": {},
   "outputs": [],
   "source": [
    "connection = psycopg2.connect(\n",
    "    user = \"postgres\",\n",
    "    password = \"ucb\",\n",
    "    host = \"postgres\",\n",
    "    port = \"5432\",\n",
    "    database = \"postgres\"\n",
    ")"
   ]
  },
  {
   "cell_type": "markdown",
   "id": "649af216",
   "metadata": {},
   "source": [
    "# 1.5 Example of a Data Visualization created using Python\n",
    "\n",
    "The data science team would like for you to create an example of a data visualization using Python from data in a Pandas dataframe containing data from an SQL query.\n",
    "\n",
    "Write 1 and only 1 query.  Note that the query may have as many subqueries, including \"with\" clauses, as you wish.  Any query of your choosing.  You can write a query from scratch.  You can use a query from a previous problem in this project.  You can use a query from the labs.  The idea is to come up with a query whose resulting data will make for an excellent quality data visualization. \n",
    "\n",
    "Ensure that when you check this Juptyer Notebook into GitHub that the query results in the Pandas dataframe are clearly visible in GitHub.  Note: When a query result has a large number of rows, Pandas will only display the first 5 rows, a row with ellipses, and the last 5 rows. This is ok.\n",
    "\n",
    "Once you have the data in a Pandas dataframe, you may write as much Python code and use as many code cells as you wish to produce the data visualization.\n",
    "\n",
    "You may only use Python modules that are currently installed in the Anaconda Docker container.  You may not install additional modules or any other software.\n",
    "\n",
    "All work must be done in Docker in your VM in AWS.  You may not use any external data visualization systems, such as Tableau, etc.\n",
    "\n",
    "You may use any code from the labs to pattern your code after, however for the data visualization, you cannot wholesale copy a data visualization from the labs.\n",
    "\n",
    "Ensure that it is properly titled, including titles for axes if present.\n",
    "\n",
    "Ensure that when you check this Juptyer Notebook into GitHub that the data visualization is clearly visible.  \n",
    "\n",
    "If you want to use Google Maps for your data visualization, this is fine, however, the image will not show up in GitHub.  So, just save the image to an image file, include it in the repo, and add a markdown cell to display the image file. Also with Google Maps, do NOT check gmap_api_key.txt into GitHub for security reasons.  If the grader needs to run it, they will supply their own gmap_api_key.txt.\n"
   ]
  },
  {
   "cell_type": "code",
   "execution_count": 89,
   "id": "dbc31d24",
   "metadata": {},
   "outputs": [
    {
     "data": {
      "text/html": [
       "<div>\n",
       "<style scoped>\n",
       "    .dataframe tbody tr th:only-of-type {\n",
       "        vertical-align: middle;\n",
       "    }\n",
       "\n",
       "    .dataframe tbody tr th {\n",
       "        vertical-align: top;\n",
       "    }\n",
       "\n",
       "    .dataframe thead th {\n",
       "        text-align: right;\n",
       "    }\n",
       "</style>\n",
       "<table border=\"1\" class=\"dataframe\">\n",
       "  <thead>\n",
       "    <tr style=\"text-align: right;\">\n",
       "      <th></th>\n",
       "      <th>holiday_date</th>\n",
       "      <th>description</th>\n",
       "      <th>daily_sales</th>\n",
       "      <th>avg_daily_sales</th>\n",
       "    </tr>\n",
       "  </thead>\n",
       "  <tbody>\n",
       "    <tr>\n",
       "      <th>0</th>\n",
       "      <td>2020-01-01</td>\n",
       "      <td>New Year's Day</td>\n",
       "      <td>133.776</td>\n",
       "      <td>269.78</td>\n",
       "    </tr>\n",
       "    <tr>\n",
       "      <th>1</th>\n",
       "      <td>2020-01-20</td>\n",
       "      <td>MLK Day</td>\n",
       "      <td>130.740</td>\n",
       "      <td>269.78</td>\n",
       "    </tr>\n",
       "    <tr>\n",
       "      <th>2</th>\n",
       "      <td>2020-02-17</td>\n",
       "      <td>President's Day</td>\n",
       "      <td>135.228</td>\n",
       "      <td>269.78</td>\n",
       "    </tr>\n",
       "    <tr>\n",
       "      <th>3</th>\n",
       "      <td>2020-04-12</td>\n",
       "      <td>Easter</td>\n",
       "      <td>136.164</td>\n",
       "      <td>269.78</td>\n",
       "    </tr>\n",
       "    <tr>\n",
       "      <th>4</th>\n",
       "      <td>2020-05-10</td>\n",
       "      <td>Mother's Day</td>\n",
       "      <td>134.496</td>\n",
       "      <td>269.78</td>\n",
       "    </tr>\n",
       "    <tr>\n",
       "      <th>5</th>\n",
       "      <td>2020-05-25</td>\n",
       "      <td>Memorial Day</td>\n",
       "      <td>132.624</td>\n",
       "      <td>269.78</td>\n",
       "    </tr>\n",
       "    <tr>\n",
       "      <th>6</th>\n",
       "      <td>2020-06-21</td>\n",
       "      <td>Father's Day</td>\n",
       "      <td>135.120</td>\n",
       "      <td>269.78</td>\n",
       "    </tr>\n",
       "    <tr>\n",
       "      <th>7</th>\n",
       "      <td>2020-07-04</td>\n",
       "      <td>Independence Day</td>\n",
       "      <td>134.952</td>\n",
       "      <td>269.78</td>\n",
       "    </tr>\n",
       "    <tr>\n",
       "      <th>8</th>\n",
       "      <td>2020-09-07</td>\n",
       "      <td>Labor Day</td>\n",
       "      <td>130.020</td>\n",
       "      <td>269.78</td>\n",
       "    </tr>\n",
       "    <tr>\n",
       "      <th>9</th>\n",
       "      <td>2020-11-11</td>\n",
       "      <td>Veterans Days</td>\n",
       "      <td>271.920</td>\n",
       "      <td>269.78</td>\n",
       "    </tr>\n",
       "    <tr>\n",
       "      <th>10</th>\n",
       "      <td>2020-11-26</td>\n",
       "      <td>Thanksgiving</td>\n",
       "      <td>0.000</td>\n",
       "      <td>269.78</td>\n",
       "    </tr>\n",
       "    <tr>\n",
       "      <th>11</th>\n",
       "      <td>2020-12-25</td>\n",
       "      <td>Christmas</td>\n",
       "      <td>0.000</td>\n",
       "      <td>269.78</td>\n",
       "    </tr>\n",
       "  </tbody>\n",
       "</table>\n",
       "</div>"
      ],
      "text/plain": [
       "   holiday_date       description  daily_sales  avg_daily_sales\n",
       "0    2020-01-01    New Year's Day      133.776           269.78\n",
       "1    2020-01-20           MLK Day      130.740           269.78\n",
       "2    2020-02-17   President's Day      135.228           269.78\n",
       "3    2020-04-12            Easter      136.164           269.78\n",
       "4    2020-05-10      Mother's Day      134.496           269.78\n",
       "5    2020-05-25      Memorial Day      132.624           269.78\n",
       "6    2020-06-21      Father's Day      135.120           269.78\n",
       "7    2020-07-04  Independence Day      134.952           269.78\n",
       "8    2020-09-07         Labor Day      130.020           269.78\n",
       "9    2020-11-11     Veterans Days      271.920           269.78\n",
       "10   2020-11-26      Thanksgiving        0.000           269.78\n",
       "11   2020-12-25         Christmas        0.000           269.78"
      ]
     },
     "execution_count": 89,
     "metadata": {},
     "output_type": "execute_result"
    }
   ],
   "source": [
    "rollback_before_flag = True\n",
    "rollback_after_flag = True\n",
    "\n",
    "query = \"\"\"\n",
    "\n",
    "select *\n",
    "from\n",
    "    (\n",
    "        (\n",
    "        select h.holiday_date,\n",
    "            h.description,\n",
    "            round(sum(sa.total_amount) / 1000, 3) as daily_sales\n",
    "        from sales as sa\n",
    "            join holidays as h\n",
    "                on sa.sale_date = h.holiday_date\n",
    "        group by h.holiday_date, h.description\n",
    "        )\n",
    "        union\n",
    "        (\n",
    "        select holiday_date,\n",
    "            description,\n",
    "            0 as daily_sales\n",
    "        from holidays\n",
    "        where closed_flag\n",
    "        )\n",
    "    ) as holiday_sales,\n",
    "    \n",
    "    (\n",
    "        select round(sum(total_amount) / 366 / 1000, 3) as avg_daily_sales\n",
    "        from sales\n",
    "    ) as avg_sales_per_day\n",
    "order by holiday_date\n",
    "\n",
    "\"\"\"\n",
    "\n",
    "df = my_select_query_pandas(query, rollback_before_flag, rollback_after_flag)\n",
    "df"
   ]
  },
  {
   "cell_type": "code",
   "execution_count": null,
   "id": "2ae747e7",
   "metadata": {},
   "outputs": [],
   "source": [
    "# Use as many code cells as you need to create and display your data visualization\n"
   ]
  },
  {
   "cell_type": "markdown",
   "id": "f8821024",
   "metadata": {},
   "source": [
    "# Bar chart of sales on holidays compared to the average daily sales"
   ]
  },
  {
   "cell_type": "code",
   "execution_count": 52,
   "id": "cad2860f",
   "metadata": {},
   "outputs": [],
   "source": [
    "import matplotlib.pyplot as plt"
   ]
  },
  {
   "cell_type": "code",
   "execution_count": 88,
   "id": "b53492e1",
   "metadata": {},
   "outputs": [
    {
     "data": {
      "image/png": "[encoded data removed]",
      "text/plain": [
       "<Figure size 1080x504 with 1 Axes>"
      ]
     },
     "metadata": {
      "needs_background": "light"
     },
     "output_type": "display_data"
    }
   ],
   "source": [
    "# This graph will show the sales (in thousands of dollars) made on Holidays (bar graph) compared to the average\n",
    "# sales per day across the whole year of 2020 (red horizontal line). We can see that the average sales seems to\n",
    "# generally be lower on holidays, with Thanksgiving and Christmas sales at 0 (because the stores are not open). The\n",
    "# standout is Veteran's Day, which roughly meets the average sales across the year. This might be because of\n",
    "# Veteran's day itself, but there's also a chance that Veteran's Day falls on a weekend, where sales are usually\n",
    "# higher. More analysis will need to be done to elucidate why Veteran's Day sales are such a standout from the\n",
    "# other holidays.\n",
    "\n",
    "plt.figure(figsize=(15,7))\n",
    "plt.bar(df['description'], df['daily_sales'], label = 'Holiday sales')\n",
    "plt.axhline(y = df['avg_daily_sales'].mean(), color = 'red', label = 'Average daily sales') \n",
    "plt.title('Holidays Sales vs Average Daily Sales')\n",
    "plt.xticks(rotation=90) \n",
    "plt.xlabel('Holiday')\n",
    "plt.ylabel('Sales (Thousands of Dollars)')\n",
    "plt.legend(loc = 'upper left', framealpha = 1)\n",
    "plt.show()"
   ]
  }
 ],
 "metadata": {
  "kernelspec": {
   "display_name": "Python 3 (ipykernel)",
   "language": "python",
   "name": "python3"
  },
  "language_info": {
   "codemirror_mode": {
    "name": "ipython",
    "version": 3
   },
   "file_extension": ".py",
   "mimetype": "text/x-python",
   "name": "python",
   "nbconvert_exporter": "python",
   "pygments_lexer": "ipython3",
   "version": "3.9.7"
  }
 },
 "nbformat": 4,
 "nbformat_minor": 5
}
