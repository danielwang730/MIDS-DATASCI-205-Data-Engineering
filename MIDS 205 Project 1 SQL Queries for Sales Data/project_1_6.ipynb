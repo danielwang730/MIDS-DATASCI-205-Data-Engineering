{
 "cells": [
  {
   "cell_type": "markdown",
   "id": "cd11da2a",
   "metadata": {},
   "source": [
    "# Project 1, Part 6, Identifying Best Customers\n"
   ]
  },
  {
   "cell_type": "markdown",
   "id": "701f1c25",
   "metadata": {},
   "source": [
    "# 1.6 Ideas on how the sales data can be used to help identify best customers\n",
    "\n",
    "The data science team would like to know your best ideas on how the sales data can be used to help identify the company's best customers.\n",
    "\n",
    "\n",
    "\n",
    "They are going to start with the most common and most basic model known as RFM, which consists of the 3 dimensions.\n",
    "\n",
    "* R - Recency - How recently did the customer purchase?\n",
    "\n",
    "* F - Frequency - How often do they purchase?\n",
    "\n",
    "* M - Monetary Value - How much do they spend?\n",
    "\n",
    "\n",
    "\n",
    "At first glance, it's pretty easy to think of a simple query for each dimension.\n",
    "\n",
    "However, after some thought, it's not quite so easy. It's very open ended, with a lot of grey areas, and no single right or wrong answer (just like 99% of data science and AI!)  For each dimension, there can be some pretty complex ways to determine.\n",
    "\n",
    "The data science team also has to come up with a way to synthesize the 3 dimensions into a single customer value for each customer.\n",
    "\n",
    "\n",
    "\n",
    "The data science team would like for you to present your ideas in the form of a title and 4 paragraphs as follows:\n",
    "\n",
    "* Title - A title describing what you will be explaining\n",
    "\n",
    "* Recency - A brief paragraph explaining your ideas on how the data can be used to determine recency.  \n",
    "\n",
    "* Frequency - A brief paragraph explaining your ideas on how the data can be used to determine frequency.\n",
    "\n",
    "* Monetary Value - A brief paragraph explaining your ideas on how the data can be used to determine monetary value.\n",
    "\n",
    "* Synthesis - A brief paragraph explaining your ideas on how to synthesize the 3 dimensions of recency, frequency, and monetary value into a customer value for each customer and how to determine who the best customers are.\n",
    "\n",
    "\n",
    "\n",
    "Put the title and all 4 paragraphs in a single markdown cell.\n",
    "\n",
    "Note that you do not write code for this, only english language descriptions of your ideas.\n",
    "\n"
   ]
  },
  {
   "cell_type": "markdown",
   "id": "67dd986f",
   "metadata": {},
   "source": [
    "# Using RFM Analysis to Identify AGM’s Best Customers\n",
    "\n",
    "To measure recency, we can utilize the sales data that includes customer IDs and their purchase dates. By grouping the data by customer ID, we can extract the most recent purchase date for each customer and then sort this data to identify those who have engaged with us most recently. Customers can then be ranked by recency or placed into recency buckets (e.g., “purchased in the last 7 days,” “purchased in the last month,” etc.), which can help prioritize customers who are actively engaged and more likely to make repeat purchases. Adjusting the timeframes for recency buckets can help us tailor insights based on seasonality or business needs.\n",
    "\n",
    "Frequency measures how often customers make purchases, which can be calculated by grouping the data by customer ID and counting their transactions. To add depth, we can calculate a purchase history range as a supplementary metric, which can be the time span between a customer’s first and last purchases. This helps distinguish consistent buyers from those who buy sporadically; for example, a customer with 12 purchases in 12 months will be different from one with 12 purchases in just 2 weeks. One caveat to this approach is that these metrics may not fully differentiate between steady and clustered buying patterns; however, prioritizing simplicity allows us to focus on broader trends, and we can explore these complexities later.\n",
    "\n",
    "Monetary value reflects the total revenue a customer contributes, which we can calculate through grouping the customers by ID and summing their total purchase amounts. One thing to note is that since AGM enforces a flat rate of $12 per meal and a one-order-per-day limit, monetary value is directly proportional to the number of purchases made. While this may simplify the analysis by removing concerns about customers making large, one-time purchases, it also means that monetary value may not reveal much beyond frequency. Nevertheless, it remains an important metric for understanding overall customer value, as it highlights customers who provide the highest revenue to the business.\n",
    "\n",
    "One approach to combining the features of the RFM model is to represent each dimension with a separate metric and assign a corresponding weight to create a final composite score. To truly understand who our best customers are, it’s essential to first define what we value most. For instance, given that our business thrives on repeat customers and operates as a small, niche service compared to larger grocery outlets, retaining consistent buyers is critical. Under this framework, Customer A, who purchases one meal every month over the past year, might be more valuable than Customer B, who buys 12 meals in a short two-week holiday period. Based on this assumption, the first two metrics could be normalized scores for purchase history range and total spending (scaled from 0 to 1), where Customer A would be ranked higher than Customer B. To account for recency, we could set the third metric to also be normalized from 0 to 1, where a recent purchase (e.g., 12/31/2020) scores 1, and a distant one (e.g., 1/1/2020) scores 0. Assigning weights to these metrics depends on what aspects of customer behavior we value most, though we might start with an equal ⅓ split for simplicity and then refine the weights after testing different scenarios. Overall, this approach allows us to synthesize the RFM dimensions into a cohesive model, helping us define and prioritize our ideal customers."
   ]
  },
  {
   "cell_type": "code",
   "execution_count": null,
   "id": "c4e9b7c3",
   "metadata": {},
   "outputs": [],
   "source": []
  }
 ],
 "metadata": {
  "kernelspec": {
   "display_name": "Python 3 (ipykernel)",
   "language": "python",
   "name": "python3"
  },
  "language_info": {
   "codemirror_mode": {
    "name": "ipython",
    "version": 3
   },
   "file_extension": ".py",
   "mimetype": "text/x-python",
   "name": "python",
   "nbconvert_exporter": "python",
   "pygments_lexer": "ipython3",
   "version": "3.9.7"
  }
 },
 "nbformat": 4,
 "nbformat_minor": 5
}
